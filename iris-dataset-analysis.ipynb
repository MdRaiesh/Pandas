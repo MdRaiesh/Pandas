{
 "cells": [
  {
   "cell_type": "markdown",
   "id": "32c8c6df",
   "metadata": {
    "papermill": {
     "duration": 0.008508,
     "end_time": "2022-10-21T11:09:49.735152",
     "exception": false,
     "start_time": "2022-10-21T11:09:49.726644",
     "status": "completed"
    },
    "tags": []
   },
   "source": [
    "# Python Pandas"
   ]
  },
  {
   "cell_type": "markdown",
   "id": "d62778e6",
   "metadata": {
    "papermill": {
     "duration": 0.006711,
     "end_time": "2022-10-21T11:09:49.748828",
     "exception": false,
     "start_time": "2022-10-21T11:09:49.742117",
     "status": "completed"
    },
    "tags": []
   },
   "source": [
    "Pandas stands for panel data and is the core library for data manipulation and data analysis\n",
    "It consists of single and multiple dimensional data structures for data manipulation"
   ]
  },
  {
   "cell_type": "markdown",
   "id": "ce822281",
   "metadata": {
    "papermill": {
     "duration": 0.006528,
     "end_time": "2022-10-21T11:09:49.762040",
     "exception": false,
     "start_time": "2022-10-21T11:09:49.755512",
     "status": "completed"
    },
    "tags": []
   },
   "source": [
    "### Python data structures\n",
    "Single dimensional, Multi dimensional "
   ]
  },
  {
   "cell_type": "markdown",
   "id": "e49934ec",
   "metadata": {
    "papermill": {
     "duration": 0.006295,
     "end_time": "2022-10-21T11:09:49.774995",
     "exception": false,
     "start_time": "2022-10-21T11:09:49.768700",
     "status": "completed"
    },
    "tags": []
   },
   "source": [
    "### Pandas Series Object\n",
    "Series object is one dimensional labeled array"
   ]
  },
  {
   "cell_type": "code",
   "execution_count": 1,
   "id": "f5502421",
   "metadata": {
    "execution": {
     "iopub.execute_input": "2022-10-21T11:09:49.791125Z",
     "iopub.status.busy": "2022-10-21T11:09:49.790134Z",
     "iopub.status.idle": "2022-10-21T11:09:49.810590Z",
     "shell.execute_reply": "2022-10-21T11:09:49.809682Z"
    },
    "papermill": {
     "duration": 0.031725,
     "end_time": "2022-10-21T11:09:49.813288",
     "exception": false,
     "start_time": "2022-10-21T11:09:49.781563",
     "status": "completed"
    },
    "tags": []
   },
   "outputs": [
    {
     "data": {
      "text/plain": [
       "0    1\n",
       "1    2\n",
       "2    3\n",
       "3    4\n",
       "4    5\n",
       "dtype: int64"
      ]
     },
     "execution_count": 1,
     "metadata": {},
     "output_type": "execute_result"
    }
   ],
   "source": [
    "import pandas as pd\n",
    "s1 = pd.Series([1,2,3,4,5])\n",
    "s1"
   ]
  },
  {
   "cell_type": "code",
   "execution_count": 2,
   "id": "beff4243",
   "metadata": {
    "execution": {
     "iopub.execute_input": "2022-10-21T11:09:49.828961Z",
     "iopub.status.busy": "2022-10-21T11:09:49.828501Z",
     "iopub.status.idle": "2022-10-21T11:09:49.835380Z",
     "shell.execute_reply": "2022-10-21T11:09:49.834164Z"
    },
    "papermill": {
     "duration": 0.017795,
     "end_time": "2022-10-21T11:09:49.838005",
     "exception": false,
     "start_time": "2022-10-21T11:09:49.820210",
     "status": "completed"
    },
    "tags": []
   },
   "outputs": [
    {
     "data": {
      "text/plain": [
       "pandas.core.series.Series"
      ]
     },
     "execution_count": 2,
     "metadata": {},
     "output_type": "execute_result"
    }
   ],
   "source": [
    "type(s1)"
   ]
  },
  {
   "cell_type": "code",
   "execution_count": 3,
   "id": "8aa48138",
   "metadata": {
    "execution": {
     "iopub.execute_input": "2022-10-21T11:09:49.856549Z",
     "iopub.status.busy": "2022-10-21T11:09:49.855746Z",
     "iopub.status.idle": "2022-10-21T11:09:49.871786Z",
     "shell.execute_reply": "2022-10-21T11:09:49.870198Z"
    },
    "papermill": {
     "duration": 0.030158,
     "end_time": "2022-10-21T11:09:49.875395",
     "exception": false,
     "start_time": "2022-10-21T11:09:49.845237",
     "status": "completed"
    },
    "tags": []
   },
   "outputs": [
    {
     "data": {
      "text/plain": [
       "a    1\n",
       "b    2\n",
       "c    3\n",
       "d    4\n",
       "e    5\n",
       "dtype: int64"
      ]
     },
     "execution_count": 3,
     "metadata": {},
     "output_type": "execute_result"
    }
   ],
   "source": [
    "import pandas as pd\n",
    "s1 = pd.Series([1,2,3,4,5],index=['a','b','c','d','e'])\n",
    "s1"
   ]
  },
  {
   "cell_type": "code",
   "execution_count": 4,
   "id": "b49f82ec",
   "metadata": {
    "execution": {
     "iopub.execute_input": "2022-10-21T11:09:49.895996Z",
     "iopub.status.busy": "2022-10-21T11:09:49.895251Z",
     "iopub.status.idle": "2022-10-21T11:09:49.905805Z",
     "shell.execute_reply": "2022-10-21T11:09:49.904525Z"
    },
    "papermill": {
     "duration": 0.024879,
     "end_time": "2022-10-21T11:09:49.909849",
     "exception": false,
     "start_time": "2022-10-21T11:09:49.884970",
     "status": "completed"
    },
    "tags": []
   },
   "outputs": [
    {
     "data": {
      "text/plain": [
       "a    10\n",
       "b    20\n",
       "c    30\n",
       "dtype: int64"
      ]
     },
     "execution_count": 4,
     "metadata": {},
     "output_type": "execute_result"
    }
   ],
   "source": [
    "# Series Object from Dictionary\n",
    "\n",
    "import pandas as pd\n",
    "pd.Series({'a':10,'b':20,'c':30})"
   ]
  },
  {
   "cell_type": "code",
   "execution_count": 5,
   "id": "1c447a20",
   "metadata": {
    "execution": {
     "iopub.execute_input": "2022-10-21T11:09:49.931847Z",
     "iopub.status.busy": "2022-10-21T11:09:49.930879Z",
     "iopub.status.idle": "2022-10-21T11:09:49.952546Z",
     "shell.execute_reply": "2022-10-21T11:09:49.950139Z"
    },
    "papermill": {
     "duration": 0.038722,
     "end_time": "2022-10-21T11:09:49.955943",
     "exception": false,
     "start_time": "2022-10-21T11:09:49.917221",
     "status": "completed"
    },
    "tags": []
   },
   "outputs": [
    {
     "data": {
      "text/plain": [
       "b    20.0\n",
       "c    30.0\n",
       "d     NaN\n",
       "a    10.0\n",
       "dtype: float64"
      ]
     },
     "execution_count": 5,
     "metadata": {},
     "output_type": "execute_result"
    }
   ],
   "source": [
    "import pandas as pd\n",
    "pd.Series({'a':10,'b':20,'c':30},index=['b','c','d','a'])"
   ]
  },
  {
   "cell_type": "code",
   "execution_count": 6,
   "id": "7ea1a464",
   "metadata": {
    "execution": {
     "iopub.execute_input": "2022-10-21T11:09:49.974537Z",
     "iopub.status.busy": "2022-10-21T11:09:49.973810Z",
     "iopub.status.idle": "2022-10-21T11:09:49.980931Z",
     "shell.execute_reply": "2022-10-21T11:09:49.980101Z"
    },
    "papermill": {
     "duration": 0.018211,
     "end_time": "2022-10-21T11:09:49.983142",
     "exception": false,
     "start_time": "2022-10-21T11:09:49.964931",
     "status": "completed"
    },
    "tags": []
   },
   "outputs": [
    {
     "data": {
      "text/plain": [
       "9"
      ]
     },
     "execution_count": 6,
     "metadata": {},
     "output_type": "execute_result"
    }
   ],
   "source": [
    "# Extracting individual values\n",
    "\n",
    "import pandas as pd\n",
    "s1 = pd.Series([1,2,3,4,5,6,7,8,9])\n",
    "s1[8]"
   ]
  },
  {
   "cell_type": "code",
   "execution_count": 7,
   "id": "452aabca",
   "metadata": {
    "execution": {
     "iopub.execute_input": "2022-10-21T11:09:50.000114Z",
     "iopub.status.busy": "2022-10-21T11:09:49.999559Z",
     "iopub.status.idle": "2022-10-21T11:09:50.007678Z",
     "shell.execute_reply": "2022-10-21T11:09:50.006430Z"
    },
    "papermill": {
     "duration": 0.019576,
     "end_time": "2022-10-21T11:09:50.010257",
     "exception": false,
     "start_time": "2022-10-21T11:09:49.990681",
     "status": "completed"
    },
    "tags": []
   },
   "outputs": [
    {
     "data": {
      "text/plain": [
       "0    1\n",
       "1    2\n",
       "2    3\n",
       "3    4\n",
       "4    5\n",
       "5    6\n",
       "6    7\n",
       "7    8\n",
       "dtype: int64"
      ]
     },
     "execution_count": 7,
     "metadata": {},
     "output_type": "execute_result"
    }
   ],
   "source": [
    "s1[:8]"
   ]
  },
  {
   "cell_type": "code",
   "execution_count": 8,
   "id": "0bd39f1a",
   "metadata": {
    "execution": {
     "iopub.execute_input": "2022-10-21T11:09:50.031091Z",
     "iopub.status.busy": "2022-10-21T11:09:50.030700Z",
     "iopub.status.idle": "2022-10-21T11:09:50.039872Z",
     "shell.execute_reply": "2022-10-21T11:09:50.038720Z"
    },
    "papermill": {
     "duration": 0.025004,
     "end_time": "2022-10-21T11:09:50.042965",
     "exception": false,
     "start_time": "2022-10-21T11:09:50.017961",
     "status": "completed"
    },
    "tags": []
   },
   "outputs": [
    {
     "data": {
      "text/plain": [
       "1    2\n",
       "2    3\n",
       "3    4\n",
       "4    5\n",
       "5    6\n",
       "6    7\n",
       "7    8\n",
       "8    9\n",
       "dtype: int64"
      ]
     },
     "execution_count": 8,
     "metadata": {},
     "output_type": "execute_result"
    }
   ],
   "source": [
    "s1[-8:]"
   ]
  },
  {
   "cell_type": "markdown",
   "id": "e5860b48",
   "metadata": {
    "papermill": {
     "duration": 0.008341,
     "end_time": "2022-10-21T11:09:50.061468",
     "exception": false,
     "start_time": "2022-10-21T11:09:50.053127",
     "status": "completed"
    },
    "tags": []
   },
   "source": [
    "## Basic Math operations on Series"
   ]
  },
  {
   "cell_type": "code",
   "execution_count": 9,
   "id": "bf153ba5",
   "metadata": {
    "execution": {
     "iopub.execute_input": "2022-10-21T11:09:50.078700Z",
     "iopub.status.busy": "2022-10-21T11:09:50.078258Z",
     "iopub.status.idle": "2022-10-21T11:09:50.086169Z",
     "shell.execute_reply": "2022-10-21T11:09:50.085067Z"
    },
    "papermill": {
     "duration": 0.019283,
     "end_time": "2022-10-21T11:09:50.088503",
     "exception": false,
     "start_time": "2022-10-21T11:09:50.069220",
     "status": "completed"
    },
    "tags": []
   },
   "outputs": [
    {
     "data": {
      "text/plain": [
       "0     6\n",
       "1     7\n",
       "2     8\n",
       "3     9\n",
       "4    10\n",
       "5    11\n",
       "6    12\n",
       "7    13\n",
       "8    14\n",
       "dtype: int64"
      ]
     },
     "execution_count": 9,
     "metadata": {},
     "output_type": "execute_result"
    }
   ],
   "source": [
    "s1+5"
   ]
  },
  {
   "cell_type": "code",
   "execution_count": 10,
   "id": "f4edac2a",
   "metadata": {
    "execution": {
     "iopub.execute_input": "2022-10-21T11:09:50.107247Z",
     "iopub.status.busy": "2022-10-21T11:09:50.106557Z",
     "iopub.status.idle": "2022-10-21T11:09:50.119293Z",
     "shell.execute_reply": "2022-10-21T11:09:50.118165Z"
    },
    "papermill": {
     "duration": 0.025172,
     "end_time": "2022-10-21T11:09:50.122225",
     "exception": false,
     "start_time": "2022-10-21T11:09:50.097053",
     "status": "completed"
    },
    "tags": []
   },
   "outputs": [
    {
     "data": {
      "text/plain": [
       "0    11\n",
       "1    22\n",
       "2    33\n",
       "3    44\n",
       "4    55\n",
       "5    66\n",
       "6    77\n",
       "7    88\n",
       "8    99\n",
       "dtype: int64"
      ]
     },
     "execution_count": 10,
     "metadata": {},
     "output_type": "execute_result"
    }
   ],
   "source": [
    "s1 = pd.Series([1,2,3,4,5,6,7,8,9])\n",
    "s2 = pd.Series([10,20,30,40,50,60,70,80,90])\n",
    "s1+s2"
   ]
  },
  {
   "cell_type": "code",
   "execution_count": 11,
   "id": "5317d41e",
   "metadata": {
    "execution": {
     "iopub.execute_input": "2022-10-21T11:09:50.144105Z",
     "iopub.status.busy": "2022-10-21T11:09:50.143561Z",
     "iopub.status.idle": "2022-10-21T11:09:50.149675Z",
     "shell.execute_reply": "2022-10-21T11:09:50.147911Z"
    },
    "papermill": {
     "duration": 0.019424,
     "end_time": "2022-10-21T11:09:50.152556",
     "exception": false,
     "start_time": "2022-10-21T11:09:50.133132",
     "status": "completed"
    },
    "tags": []
   },
   "outputs": [],
   "source": [
    "# Pandas dataframe\n",
    "\n",
    "#  Dataframe is a two dimensional labelled data structure\n",
    "# A dataframe comprises of rows and column"
   ]
  },
  {
   "cell_type": "code",
   "execution_count": 12,
   "id": "1500d837",
   "metadata": {
    "execution": {
     "iopub.execute_input": "2022-10-21T11:09:50.170447Z",
     "iopub.status.busy": "2022-10-21T11:09:50.170061Z",
     "iopub.status.idle": "2022-10-21T11:09:50.191165Z",
     "shell.execute_reply": "2022-10-21T11:09:50.189992Z"
    },
    "papermill": {
     "duration": 0.032775,
     "end_time": "2022-10-21T11:09:50.193356",
     "exception": false,
     "start_time": "2022-10-21T11:09:50.160581",
     "status": "completed"
    },
    "tags": []
   },
   "outputs": [
    {
     "data": {
      "text/html": [
       "<div>\n",
       "<style scoped>\n",
       "    .dataframe tbody tr th:only-of-type {\n",
       "        vertical-align: middle;\n",
       "    }\n",
       "\n",
       "    .dataframe tbody tr th {\n",
       "        vertical-align: top;\n",
       "    }\n",
       "\n",
       "    .dataframe thead th {\n",
       "        text-align: right;\n",
       "    }\n",
       "</style>\n",
       "<table border=\"1\" class=\"dataframe\">\n",
       "  <thead>\n",
       "    <tr style=\"text-align: right;\">\n",
       "      <th></th>\n",
       "      <th>Name</th>\n",
       "      <th>Marks</th>\n",
       "    </tr>\n",
       "  </thead>\n",
       "  <tbody>\n",
       "    <tr>\n",
       "      <th>0</th>\n",
       "      <td>Md</td>\n",
       "      <td>87</td>\n",
       "    </tr>\n",
       "    <tr>\n",
       "      <th>1</th>\n",
       "      <td>Ahoj</td>\n",
       "      <td>88</td>\n",
       "    </tr>\n",
       "    <tr>\n",
       "      <th>2</th>\n",
       "      <td>AKD</td>\n",
       "      <td>91</td>\n",
       "    </tr>\n",
       "    <tr>\n",
       "      <th>3</th>\n",
       "      <td>Jack</td>\n",
       "      <td>86</td>\n",
       "    </tr>\n",
       "    <tr>\n",
       "      <th>4</th>\n",
       "      <td>Dan</td>\n",
       "      <td>85</td>\n",
       "    </tr>\n",
       "  </tbody>\n",
       "</table>\n",
       "</div>"
      ],
      "text/plain": [
       "   Name  Marks\n",
       "0    Md     87\n",
       "1  Ahoj     88\n",
       "2   AKD     91\n",
       "3  Jack     86\n",
       "4   Dan     85"
      ]
     },
     "execution_count": 12,
     "metadata": {},
     "output_type": "execute_result"
    }
   ],
   "source": [
    "# Creating a dataframe\n",
    "\n",
    "import pandas as pd\n",
    "pd.DataFrame({\"Name\":[\"Md\",\"Ahoj\",\"AKD\",\"Jack\",\"Dan\"],\"Marks\":[87,88,91,86,85]})"
   ]
  },
  {
   "cell_type": "markdown",
   "id": "0dd7a277",
   "metadata": {
    "papermill": {
     "duration": 0.007791,
     "end_time": "2022-10-21T11:09:50.209265",
     "exception": false,
     "start_time": "2022-10-21T11:09:50.201474",
     "status": "completed"
    },
    "tags": []
   },
   "source": [
    "## Dataframe in-Built function"
   ]
  },
  {
   "cell_type": "code",
   "execution_count": 13,
   "id": "a50bc78f",
   "metadata": {
    "execution": {
     "iopub.execute_input": "2022-10-21T11:09:50.228156Z",
     "iopub.status.busy": "2022-10-21T11:09:50.227543Z",
     "iopub.status.idle": "2022-10-21T11:09:50.246293Z",
     "shell.execute_reply": "2022-10-21T11:09:50.244974Z"
    },
    "papermill": {
     "duration": 0.031841,
     "end_time": "2022-10-21T11:09:50.249307",
     "exception": false,
     "start_time": "2022-10-21T11:09:50.217466",
     "status": "completed"
    },
    "scrolled": true,
    "tags": []
   },
   "outputs": [],
   "source": [
    "import pandas as pd\n",
    "iris = pd.read_csv(\"../input/iris-dataset/iris.csv\")"
   ]
  },
  {
   "cell_type": "code",
   "execution_count": 14,
   "id": "7d455284",
   "metadata": {
    "execution": {
     "iopub.execute_input": "2022-10-21T11:09:50.271764Z",
     "iopub.status.busy": "2022-10-21T11:09:50.270183Z",
     "iopub.status.idle": "2022-10-21T11:09:50.288888Z",
     "shell.execute_reply": "2022-10-21T11:09:50.287566Z"
    },
    "papermill": {
     "duration": 0.031927,
     "end_time": "2022-10-21T11:09:50.291465",
     "exception": false,
     "start_time": "2022-10-21T11:09:50.259538",
     "status": "completed"
    },
    "tags": []
   },
   "outputs": [
    {
     "data": {
      "text/html": [
       "<div>\n",
       "<style scoped>\n",
       "    .dataframe tbody tr th:only-of-type {\n",
       "        vertical-align: middle;\n",
       "    }\n",
       "\n",
       "    .dataframe tbody tr th {\n",
       "        vertical-align: top;\n",
       "    }\n",
       "\n",
       "    .dataframe thead th {\n",
       "        text-align: right;\n",
       "    }\n",
       "</style>\n",
       "<table border=\"1\" class=\"dataframe\">\n",
       "  <thead>\n",
       "    <tr style=\"text-align: right;\">\n",
       "      <th></th>\n",
       "      <th>sepal_length</th>\n",
       "      <th>sepal_width</th>\n",
       "      <th>petal_length</th>\n",
       "      <th>petal_width</th>\n",
       "      <th>species</th>\n",
       "    </tr>\n",
       "  </thead>\n",
       "  <tbody>\n",
       "    <tr>\n",
       "      <th>0</th>\n",
       "      <td>5.1</td>\n",
       "      <td>3.5</td>\n",
       "      <td>1.4</td>\n",
       "      <td>0.2</td>\n",
       "      <td>setosa</td>\n",
       "    </tr>\n",
       "    <tr>\n",
       "      <th>1</th>\n",
       "      <td>4.9</td>\n",
       "      <td>3.0</td>\n",
       "      <td>1.4</td>\n",
       "      <td>0.2</td>\n",
       "      <td>setosa</td>\n",
       "    </tr>\n",
       "    <tr>\n",
       "      <th>2</th>\n",
       "      <td>4.7</td>\n",
       "      <td>3.2</td>\n",
       "      <td>1.3</td>\n",
       "      <td>0.2</td>\n",
       "      <td>setosa</td>\n",
       "    </tr>\n",
       "    <tr>\n",
       "      <th>3</th>\n",
       "      <td>4.6</td>\n",
       "      <td>3.1</td>\n",
       "      <td>1.5</td>\n",
       "      <td>0.2</td>\n",
       "      <td>setosa</td>\n",
       "    </tr>\n",
       "    <tr>\n",
       "      <th>4</th>\n",
       "      <td>5.0</td>\n",
       "      <td>3.6</td>\n",
       "      <td>1.4</td>\n",
       "      <td>0.2</td>\n",
       "      <td>setosa</td>\n",
       "    </tr>\n",
       "  </tbody>\n",
       "</table>\n",
       "</div>"
      ],
      "text/plain": [
       "   sepal_length  sepal_width  petal_length  petal_width species\n",
       "0           5.1          3.5           1.4          0.2  setosa\n",
       "1           4.9          3.0           1.4          0.2  setosa\n",
       "2           4.7          3.2           1.3          0.2  setosa\n",
       "3           4.6          3.1           1.5          0.2  setosa\n",
       "4           5.0          3.6           1.4          0.2  setosa"
      ]
     },
     "execution_count": 14,
     "metadata": {},
     "output_type": "execute_result"
    }
   ],
   "source": [
    "iris.head()"
   ]
  },
  {
   "cell_type": "code",
   "execution_count": 15,
   "id": "3e561e0d",
   "metadata": {
    "execution": {
     "iopub.execute_input": "2022-10-21T11:09:50.312542Z",
     "iopub.status.busy": "2022-10-21T11:09:50.311011Z",
     "iopub.status.idle": "2022-10-21T11:09:50.327674Z",
     "shell.execute_reply": "2022-10-21T11:09:50.326765Z"
    },
    "papermill": {
     "duration": 0.028919,
     "end_time": "2022-10-21T11:09:50.329783",
     "exception": false,
     "start_time": "2022-10-21T11:09:50.300864",
     "status": "completed"
    },
    "tags": []
   },
   "outputs": [
    {
     "data": {
      "text/html": [
       "<div>\n",
       "<style scoped>\n",
       "    .dataframe tbody tr th:only-of-type {\n",
       "        vertical-align: middle;\n",
       "    }\n",
       "\n",
       "    .dataframe tbody tr th {\n",
       "        vertical-align: top;\n",
       "    }\n",
       "\n",
       "    .dataframe thead th {\n",
       "        text-align: right;\n",
       "    }\n",
       "</style>\n",
       "<table border=\"1\" class=\"dataframe\">\n",
       "  <thead>\n",
       "    <tr style=\"text-align: right;\">\n",
       "      <th></th>\n",
       "      <th>sepal_length</th>\n",
       "      <th>sepal_width</th>\n",
       "      <th>petal_length</th>\n",
       "      <th>petal_width</th>\n",
       "      <th>species</th>\n",
       "    </tr>\n",
       "  </thead>\n",
       "  <tbody>\n",
       "    <tr>\n",
       "      <th>145</th>\n",
       "      <td>6.7</td>\n",
       "      <td>3.0</td>\n",
       "      <td>5.2</td>\n",
       "      <td>2.3</td>\n",
       "      <td>virginica</td>\n",
       "    </tr>\n",
       "    <tr>\n",
       "      <th>146</th>\n",
       "      <td>6.3</td>\n",
       "      <td>2.5</td>\n",
       "      <td>5.0</td>\n",
       "      <td>1.9</td>\n",
       "      <td>virginica</td>\n",
       "    </tr>\n",
       "    <tr>\n",
       "      <th>147</th>\n",
       "      <td>6.5</td>\n",
       "      <td>3.0</td>\n",
       "      <td>5.2</td>\n",
       "      <td>2.0</td>\n",
       "      <td>virginica</td>\n",
       "    </tr>\n",
       "    <tr>\n",
       "      <th>148</th>\n",
       "      <td>6.2</td>\n",
       "      <td>3.4</td>\n",
       "      <td>5.4</td>\n",
       "      <td>2.3</td>\n",
       "      <td>virginica</td>\n",
       "    </tr>\n",
       "    <tr>\n",
       "      <th>149</th>\n",
       "      <td>5.9</td>\n",
       "      <td>3.0</td>\n",
       "      <td>5.1</td>\n",
       "      <td>1.8</td>\n",
       "      <td>virginica</td>\n",
       "    </tr>\n",
       "  </tbody>\n",
       "</table>\n",
       "</div>"
      ],
      "text/plain": [
       "     sepal_length  sepal_width  petal_length  petal_width    species\n",
       "145           6.7          3.0           5.2          2.3  virginica\n",
       "146           6.3          2.5           5.0          1.9  virginica\n",
       "147           6.5          3.0           5.2          2.0  virginica\n",
       "148           6.2          3.4           5.4          2.3  virginica\n",
       "149           5.9          3.0           5.1          1.8  virginica"
      ]
     },
     "execution_count": 15,
     "metadata": {},
     "output_type": "execute_result"
    }
   ],
   "source": [
    "iris.tail()"
   ]
  },
  {
   "cell_type": "code",
   "execution_count": 16,
   "id": "f15a2c13",
   "metadata": {
    "execution": {
     "iopub.execute_input": "2022-10-21T11:09:50.349473Z",
     "iopub.status.busy": "2022-10-21T11:09:50.348799Z",
     "iopub.status.idle": "2022-10-21T11:09:50.355419Z",
     "shell.execute_reply": "2022-10-21T11:09:50.354209Z"
    },
    "papermill": {
     "duration": 0.019106,
     "end_time": "2022-10-21T11:09:50.357682",
     "exception": false,
     "start_time": "2022-10-21T11:09:50.338576",
     "status": "completed"
    },
    "tags": []
   },
   "outputs": [
    {
     "data": {
      "text/plain": [
       "(150, 5)"
      ]
     },
     "execution_count": 16,
     "metadata": {},
     "output_type": "execute_result"
    }
   ],
   "source": [
    "iris.shape"
   ]
  },
  {
   "cell_type": "code",
   "execution_count": 17,
   "id": "c40ae15f",
   "metadata": {
    "execution": {
     "iopub.execute_input": "2022-10-21T11:09:50.376772Z",
     "iopub.status.busy": "2022-10-21T11:09:50.376318Z",
     "iopub.status.idle": "2022-10-21T11:09:50.407411Z",
     "shell.execute_reply": "2022-10-21T11:09:50.406286Z"
    },
    "papermill": {
     "duration": 0.043703,
     "end_time": "2022-10-21T11:09:50.410025",
     "exception": false,
     "start_time": "2022-10-21T11:09:50.366322",
     "status": "completed"
    },
    "tags": []
   },
   "outputs": [
    {
     "data": {
      "text/html": [
       "<div>\n",
       "<style scoped>\n",
       "    .dataframe tbody tr th:only-of-type {\n",
       "        vertical-align: middle;\n",
       "    }\n",
       "\n",
       "    .dataframe tbody tr th {\n",
       "        vertical-align: top;\n",
       "    }\n",
       "\n",
       "    .dataframe thead th {\n",
       "        text-align: right;\n",
       "    }\n",
       "</style>\n",
       "<table border=\"1\" class=\"dataframe\">\n",
       "  <thead>\n",
       "    <tr style=\"text-align: right;\">\n",
       "      <th></th>\n",
       "      <th>sepal_length</th>\n",
       "      <th>sepal_width</th>\n",
       "      <th>petal_length</th>\n",
       "      <th>petal_width</th>\n",
       "    </tr>\n",
       "  </thead>\n",
       "  <tbody>\n",
       "    <tr>\n",
       "      <th>count</th>\n",
       "      <td>150.000000</td>\n",
       "      <td>150.000000</td>\n",
       "      <td>150.000000</td>\n",
       "      <td>150.000000</td>\n",
       "    </tr>\n",
       "    <tr>\n",
       "      <th>mean</th>\n",
       "      <td>5.843333</td>\n",
       "      <td>3.054000</td>\n",
       "      <td>3.758667</td>\n",
       "      <td>1.198667</td>\n",
       "    </tr>\n",
       "    <tr>\n",
       "      <th>std</th>\n",
       "      <td>0.828066</td>\n",
       "      <td>0.433594</td>\n",
       "      <td>1.764420</td>\n",
       "      <td>0.763161</td>\n",
       "    </tr>\n",
       "    <tr>\n",
       "      <th>min</th>\n",
       "      <td>4.300000</td>\n",
       "      <td>2.000000</td>\n",
       "      <td>1.000000</td>\n",
       "      <td>0.100000</td>\n",
       "    </tr>\n",
       "    <tr>\n",
       "      <th>25%</th>\n",
       "      <td>5.100000</td>\n",
       "      <td>2.800000</td>\n",
       "      <td>1.600000</td>\n",
       "      <td>0.300000</td>\n",
       "    </tr>\n",
       "    <tr>\n",
       "      <th>50%</th>\n",
       "      <td>5.800000</td>\n",
       "      <td>3.000000</td>\n",
       "      <td>4.350000</td>\n",
       "      <td>1.300000</td>\n",
       "    </tr>\n",
       "    <tr>\n",
       "      <th>75%</th>\n",
       "      <td>6.400000</td>\n",
       "      <td>3.300000</td>\n",
       "      <td>5.100000</td>\n",
       "      <td>1.800000</td>\n",
       "    </tr>\n",
       "    <tr>\n",
       "      <th>max</th>\n",
       "      <td>7.900000</td>\n",
       "      <td>4.400000</td>\n",
       "      <td>6.900000</td>\n",
       "      <td>2.500000</td>\n",
       "    </tr>\n",
       "  </tbody>\n",
       "</table>\n",
       "</div>"
      ],
      "text/plain": [
       "       sepal_length  sepal_width  petal_length  petal_width\n",
       "count    150.000000   150.000000    150.000000   150.000000\n",
       "mean       5.843333     3.054000      3.758667     1.198667\n",
       "std        0.828066     0.433594      1.764420     0.763161\n",
       "min        4.300000     2.000000      1.000000     0.100000\n",
       "25%        5.100000     2.800000      1.600000     0.300000\n",
       "50%        5.800000     3.000000      4.350000     1.300000\n",
       "75%        6.400000     3.300000      5.100000     1.800000\n",
       "max        7.900000     4.400000      6.900000     2.500000"
      ]
     },
     "execution_count": 17,
     "metadata": {},
     "output_type": "execute_result"
    }
   ],
   "source": [
    "iris.describe()"
   ]
  },
  {
   "cell_type": "code",
   "execution_count": 18,
   "id": "c1b886a1",
   "metadata": {
    "execution": {
     "iopub.execute_input": "2022-10-21T11:09:50.429531Z",
     "iopub.status.busy": "2022-10-21T11:09:50.429146Z",
     "iopub.status.idle": "2022-10-21T11:09:50.440255Z",
     "shell.execute_reply": "2022-10-21T11:09:50.439023Z"
    },
    "papermill": {
     "duration": 0.023877,
     "end_time": "2022-10-21T11:09:50.442853",
     "exception": false,
     "start_time": "2022-10-21T11:09:50.418976",
     "status": "completed"
    },
    "tags": []
   },
   "outputs": [
    {
     "data": {
      "text/html": [
       "<div>\n",
       "<style scoped>\n",
       "    .dataframe tbody tr th:only-of-type {\n",
       "        vertical-align: middle;\n",
       "    }\n",
       "\n",
       "    .dataframe tbody tr th {\n",
       "        vertical-align: top;\n",
       "    }\n",
       "\n",
       "    .dataframe thead th {\n",
       "        text-align: right;\n",
       "    }\n",
       "</style>\n",
       "<table border=\"1\" class=\"dataframe\">\n",
       "  <thead>\n",
       "    <tr style=\"text-align: right;\">\n",
       "      <th></th>\n",
       "      <th>sepal_width</th>\n",
       "      <th>petal_length</th>\n",
       "    </tr>\n",
       "  </thead>\n",
       "  <tbody>\n",
       "    <tr>\n",
       "      <th>4</th>\n",
       "      <td>3.6</td>\n",
       "      <td>1.4</td>\n",
       "    </tr>\n",
       "    <tr>\n",
       "      <th>5</th>\n",
       "      <td>3.9</td>\n",
       "      <td>1.7</td>\n",
       "    </tr>\n",
       "    <tr>\n",
       "      <th>6</th>\n",
       "      <td>3.4</td>\n",
       "      <td>1.4</td>\n",
       "    </tr>\n",
       "    <tr>\n",
       "      <th>7</th>\n",
       "      <td>3.4</td>\n",
       "      <td>1.5</td>\n",
       "    </tr>\n",
       "  </tbody>\n",
       "</table>\n",
       "</div>"
      ],
      "text/plain": [
       "   sepal_width  petal_length\n",
       "4          3.6           1.4\n",
       "5          3.9           1.7\n",
       "6          3.4           1.4\n",
       "7          3.4           1.5"
      ]
     },
     "execution_count": 18,
     "metadata": {},
     "output_type": "execute_result"
    }
   ],
   "source": [
    "iris.iloc[4:8,1:3]"
   ]
  },
  {
   "cell_type": "code",
   "execution_count": 19,
   "id": "7ce5a2d8",
   "metadata": {
    "execution": {
     "iopub.execute_input": "2022-10-21T11:09:50.462921Z",
     "iopub.status.busy": "2022-10-21T11:09:50.462492Z",
     "iopub.status.idle": "2022-10-21T11:09:50.484796Z",
     "shell.execute_reply": "2022-10-21T11:09:50.483606Z"
    },
    "papermill": {
     "duration": 0.035247,
     "end_time": "2022-10-21T11:09:50.487326",
     "exception": false,
     "start_time": "2022-10-21T11:09:50.452079",
     "status": "completed"
    },
    "tags": []
   },
   "outputs": [
    {
     "data": {
      "text/html": [
       "<div>\n",
       "<style scoped>\n",
       "    .dataframe tbody tr th:only-of-type {\n",
       "        vertical-align: middle;\n",
       "    }\n",
       "\n",
       "    .dataframe tbody tr th {\n",
       "        vertical-align: top;\n",
       "    }\n",
       "\n",
       "    .dataframe thead th {\n",
       "        text-align: right;\n",
       "    }\n",
       "</style>\n",
       "<table border=\"1\" class=\"dataframe\">\n",
       "  <thead>\n",
       "    <tr style=\"text-align: right;\">\n",
       "      <th></th>\n",
       "      <th>sepal_length</th>\n",
       "      <th>sepal_width</th>\n",
       "      <th>petal_length</th>\n",
       "      <th>petal_width</th>\n",
       "      <th>species</th>\n",
       "    </tr>\n",
       "  </thead>\n",
       "  <tbody>\n",
       "    <tr>\n",
       "      <th>0</th>\n",
       "      <td>5.1</td>\n",
       "      <td>3.5</td>\n",
       "      <td>1.4</td>\n",
       "      <td>0.2</td>\n",
       "      <td>setosa</td>\n",
       "    </tr>\n",
       "    <tr>\n",
       "      <th>3</th>\n",
       "      <td>4.6</td>\n",
       "      <td>3.1</td>\n",
       "      <td>1.5</td>\n",
       "      <td>0.2</td>\n",
       "      <td>setosa</td>\n",
       "    </tr>\n",
       "    <tr>\n",
       "      <th>5</th>\n",
       "      <td>5.4</td>\n",
       "      <td>3.9</td>\n",
       "      <td>1.7</td>\n",
       "      <td>0.4</td>\n",
       "      <td>setosa</td>\n",
       "    </tr>\n",
       "    <tr>\n",
       "      <th>6</th>\n",
       "      <td>4.6</td>\n",
       "      <td>3.4</td>\n",
       "      <td>1.4</td>\n",
       "      <td>0.3</td>\n",
       "      <td>setosa</td>\n",
       "    </tr>\n",
       "    <tr>\n",
       "      <th>7</th>\n",
       "      <td>5.0</td>\n",
       "      <td>3.4</td>\n",
       "      <td>1.5</td>\n",
       "      <td>0.2</td>\n",
       "      <td>setosa</td>\n",
       "    </tr>\n",
       "    <tr>\n",
       "      <th>...</th>\n",
       "      <td>...</td>\n",
       "      <td>...</td>\n",
       "      <td>...</td>\n",
       "      <td>...</td>\n",
       "      <td>...</td>\n",
       "    </tr>\n",
       "    <tr>\n",
       "      <th>145</th>\n",
       "      <td>6.7</td>\n",
       "      <td>3.0</td>\n",
       "      <td>5.2</td>\n",
       "      <td>2.3</td>\n",
       "      <td>virginica</td>\n",
       "    </tr>\n",
       "    <tr>\n",
       "      <th>146</th>\n",
       "      <td>6.3</td>\n",
       "      <td>2.5</td>\n",
       "      <td>5.0</td>\n",
       "      <td>1.9</td>\n",
       "      <td>virginica</td>\n",
       "    </tr>\n",
       "    <tr>\n",
       "      <th>147</th>\n",
       "      <td>6.5</td>\n",
       "      <td>3.0</td>\n",
       "      <td>5.2</td>\n",
       "      <td>2.0</td>\n",
       "      <td>virginica</td>\n",
       "    </tr>\n",
       "    <tr>\n",
       "      <th>148</th>\n",
       "      <td>6.2</td>\n",
       "      <td>3.4</td>\n",
       "      <td>5.4</td>\n",
       "      <td>2.3</td>\n",
       "      <td>virginica</td>\n",
       "    </tr>\n",
       "    <tr>\n",
       "      <th>149</th>\n",
       "      <td>5.9</td>\n",
       "      <td>3.0</td>\n",
       "      <td>5.1</td>\n",
       "      <td>1.8</td>\n",
       "      <td>virginica</td>\n",
       "    </tr>\n",
       "  </tbody>\n",
       "</table>\n",
       "<p>147 rows × 5 columns</p>\n",
       "</div>"
      ],
      "text/plain": [
       "     sepal_length  sepal_width  petal_length  petal_width    species\n",
       "0             5.1          3.5           1.4          0.2     setosa\n",
       "3             4.6          3.1           1.5          0.2     setosa\n",
       "5             5.4          3.9           1.7          0.4     setosa\n",
       "6             4.6          3.4           1.4          0.3     setosa\n",
       "7             5.0          3.4           1.5          0.2     setosa\n",
       "..            ...          ...           ...          ...        ...\n",
       "145           6.7          3.0           5.2          2.3  virginica\n",
       "146           6.3          2.5           5.0          1.9  virginica\n",
       "147           6.5          3.0           5.2          2.0  virginica\n",
       "148           6.2          3.4           5.4          2.3  virginica\n",
       "149           5.9          3.0           5.1          1.8  virginica\n",
       "\n",
       "[147 rows x 5 columns]"
      ]
     },
     "execution_count": 19,
     "metadata": {},
     "output_type": "execute_result"
    }
   ],
   "source": [
    "import pandas as pd\n",
    "iris = pd.read_csv(\"../input/iris-dataset/iris.csv\")\n",
    "iris.drop([1,2,4],axis=0)"
   ]
  },
  {
   "cell_type": "code",
   "execution_count": 20,
   "id": "0fc9ba21",
   "metadata": {
    "execution": {
     "iopub.execute_input": "2022-10-21T11:09:50.507842Z",
     "iopub.status.busy": "2022-10-21T11:09:50.507433Z",
     "iopub.status.idle": "2022-10-21T11:09:50.521508Z",
     "shell.execute_reply": "2022-10-21T11:09:50.520241Z"
    },
    "papermill": {
     "duration": 0.027858,
     "end_time": "2022-10-21T11:09:50.524581",
     "exception": false,
     "start_time": "2022-10-21T11:09:50.496723",
     "status": "completed"
    },
    "tags": []
   },
   "outputs": [
    {
     "name": "stderr",
     "output_type": "stream",
     "text": [
      "/opt/conda/lib/python3.7/site-packages/ipykernel_launcher.py:3: FutureWarning: Dropping of nuisance columns in DataFrame reductions (with 'numeric_only=None') is deprecated; in a future version this will raise TypeError.  Select only valid columns before calling the reduction.\n",
      "  This is separate from the ipykernel package so we can avoid doing imports until\n"
     ]
    },
    {
     "data": {
      "text/plain": [
       "sepal_length    5.843333\n",
       "sepal_width     3.054000\n",
       "petal_length    3.758667\n",
       "petal_width     1.198667\n",
       "dtype: float64"
      ]
     },
     "execution_count": 20,
     "metadata": {},
     "output_type": "execute_result"
    }
   ],
   "source": [
    "import pandas as pd\n",
    "iris = pd.read_csv(\"../input/iris-dataset/iris.csv\")\n",
    "iris.mean()"
   ]
  },
  {
   "cell_type": "code",
   "execution_count": 21,
   "id": "c7e0f399",
   "metadata": {
    "execution": {
     "iopub.execute_input": "2022-10-21T11:09:50.545284Z",
     "iopub.status.busy": "2022-10-21T11:09:50.544912Z",
     "iopub.status.idle": "2022-10-21T11:09:50.557318Z",
     "shell.execute_reply": "2022-10-21T11:09:50.555580Z"
    },
    "papermill": {
     "duration": 0.025811,
     "end_time": "2022-10-21T11:09:50.559909",
     "exception": false,
     "start_time": "2022-10-21T11:09:50.534098",
     "status": "completed"
    },
    "tags": []
   },
   "outputs": [
    {
     "name": "stderr",
     "output_type": "stream",
     "text": [
      "/opt/conda/lib/python3.7/site-packages/ipykernel_launcher.py:1: FutureWarning: Dropping of nuisance columns in DataFrame reductions (with 'numeric_only=None') is deprecated; in a future version this will raise TypeError.  Select only valid columns before calling the reduction.\n",
      "  \"\"\"Entry point for launching an IPython kernel.\n"
     ]
    },
    {
     "data": {
      "text/plain": [
       "sepal_length    5.80\n",
       "sepal_width     3.00\n",
       "petal_length    4.35\n",
       "petal_width     1.30\n",
       "dtype: float64"
      ]
     },
     "execution_count": 21,
     "metadata": {},
     "output_type": "execute_result"
    }
   ],
   "source": [
    "iris.median()"
   ]
  },
  {
   "cell_type": "code",
   "execution_count": 22,
   "id": "b5ece6ca",
   "metadata": {
    "execution": {
     "iopub.execute_input": "2022-10-21T11:09:50.581234Z",
     "iopub.status.busy": "2022-10-21T11:09:50.580551Z",
     "iopub.status.idle": "2022-10-21T11:09:50.590406Z",
     "shell.execute_reply": "2022-10-21T11:09:50.589191Z"
    },
    "papermill": {
     "duration": 0.023587,
     "end_time": "2022-10-21T11:09:50.592995",
     "exception": false,
     "start_time": "2022-10-21T11:09:50.569408",
     "status": "completed"
    },
    "tags": []
   },
   "outputs": [
    {
     "data": {
      "text/plain": [
       "sepal_length          7.9\n",
       "sepal_width           4.4\n",
       "petal_length          6.9\n",
       "petal_width           2.5\n",
       "species         virginica\n",
       "dtype: object"
      ]
     },
     "execution_count": 22,
     "metadata": {},
     "output_type": "execute_result"
    }
   ],
   "source": [
    "iris.max()"
   ]
  },
  {
   "cell_type": "code",
   "execution_count": 23,
   "id": "e85a69ef",
   "metadata": {
    "execution": {
     "iopub.execute_input": "2022-10-21T11:09:50.614786Z",
     "iopub.status.busy": "2022-10-21T11:09:50.614366Z",
     "iopub.status.idle": "2022-10-21T11:09:50.624449Z",
     "shell.execute_reply": "2022-10-21T11:09:50.623324Z"
    },
    "papermill": {
     "duration": 0.024091,
     "end_time": "2022-10-21T11:09:50.626825",
     "exception": false,
     "start_time": "2022-10-21T11:09:50.602734",
     "status": "completed"
    },
    "tags": []
   },
   "outputs": [
    {
     "data": {
      "text/plain": [
       "sepal_length       4.3\n",
       "sepal_width        2.0\n",
       "petal_length       1.0\n",
       "petal_width        0.1\n",
       "species         setosa\n",
       "dtype: object"
      ]
     },
     "execution_count": 23,
     "metadata": {},
     "output_type": "execute_result"
    }
   ],
   "source": [
    "iris.min()"
   ]
  }
 ],
 "metadata": {
  "kernelspec": {
   "display_name": "Python 3",
   "language": "python",
   "name": "python3"
  },
  "language_info": {
   "codemirror_mode": {
    "name": "ipython",
    "version": 3
   },
   "file_extension": ".py",
   "mimetype": "text/x-python",
   "name": "python",
   "nbconvert_exporter": "python",
   "pygments_lexer": "ipython3",
   "version": "3.7.12"
  },
  "papermill": {
   "default_parameters": {},
   "duration": 10.364457,
   "end_time": "2022-10-21T11:09:51.259407",
   "environment_variables": {},
   "exception": null,
   "input_path": "__notebook__.ipynb",
   "output_path": "__notebook__.ipynb",
   "parameters": {},
   "start_time": "2022-10-21T11:09:40.894950",
   "version": "2.3.4"
  }
 },
 "nbformat": 4,
 "nbformat_minor": 5
}
